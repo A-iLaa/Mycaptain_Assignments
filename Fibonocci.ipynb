{
  "nbformat": 4,
  "nbformat_minor": 0,
  "metadata": {
    "colab": {
      "provenance": []
    },
    "kernelspec": {
      "name": "python3",
      "display_name": "Python 3"
    },
    "language_info": {
      "name": "python"
    }
  },
  "cells": [
    {
      "cell_type": "code",
      "execution_count": 4,
      "metadata": {
        "colab": {
          "base_uri": "https://localhost:8080/"
        },
        "id": "3605hPcx_ZpH",
        "outputId": "ab9a4308-e4cb-4843-ef5d-94352f22daf7"
      },
      "outputs": [
        {
          "output_type": "stream",
          "name": "stdout",
          "text": [
            "Enter a number10\n",
            "[0, 1, 1, 2, 3, 5, 8, 13, 21, 34]\n"
          ]
        }
      ],
      "source": [
        "#Fibonacci series\n",
        "n=int(input(\"Enter a number\"))\n",
        "fib=[0,1]\n",
        "for i in range(2,n):\n",
        "  fib.append(fib[i-2]+fib[i-1])\n",
        "print(fib)\n"
      ]
    }
  ]
}