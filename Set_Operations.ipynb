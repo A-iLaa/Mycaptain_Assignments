{
  "nbformat": 4,
  "nbformat_minor": 0,
  "metadata": {
    "colab": {
      "provenance": []
    },
    "kernelspec": {
      "name": "python3",
      "display_name": "Python 3"
    },
    "language_info": {
      "name": "python"
    }
  },
  "cells": [
    {
      "cell_type": "code",
      "execution_count": 9,
      "metadata": {
        "colab": {
          "base_uri": "https://localhost:8080/"
        },
        "id": "xpcJOn1jEYaU",
        "outputId": "71f7be8b-7b8c-47f5-ab96-71f04a601c08"
      },
      "outputs": [
        {
          "output_type": "stream",
          "name": "stdout",
          "text": [
            "Enter the first set{1,2,3}\n",
            "Enter the second set{3,4,5}\n",
            "union of l1 and l2 is {1, 2, 3, 4, 5}\n",
            "intersection of l1 and l2 is {3}\n",
            "difference of l1 and l2 is {1, 2}\n",
            "symmetric difference of l1 and l2 is {1, 2, 4, 5}\n"
          ]
        }
      ],
      "source": [
        "#set operation\n",
        "l1=eval(input(\"Enter the first set\"))\n",
        "l2=eval(input(\"Enter the second set\"))\n",
        "print(f'union of l1 and l2 is {l1|l2}')\n",
        "print(f'intersection of l1 and l2 is {l1 & l2}')\n",
        "print(f'difference of l1 and l2 is {l1-l2}')\n",
        "print(f'symmetric difference of l1 and l2 is {(l1-l2)|(l2-l1)}')"
      ]
    }
  ]
}