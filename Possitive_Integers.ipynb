{
  "nbformat": 4,
  "nbformat_minor": 0,
  "metadata": {
    "colab": {
      "provenance": []
    },
    "kernelspec": {
      "name": "python3",
      "display_name": "Python 3"
    },
    "language_info": {
      "name": "python"
    },
    "accelerator": "TPU"
  },
  "cells": [
    {
      "cell_type": "code",
      "execution_count": 2,
      "metadata": {
        "colab": {
          "base_uri": "https://localhost:8080/"
        },
        "id": "wb_YCvhiCVox",
        "outputId": "ac48fb23-fd80-48f5-9375-af1bf82c33dd"
      },
      "outputs": [
        {
          "output_type": "stream",
          "name": "stdout",
          "text": [
            "[1, 9]\n"
          ]
        }
      ],
      "source": [
        "l=[1,-2,9,-5]\n",
        "for i in l:\n",
        "  if i<=0:\n",
        "    l.remove(i)\n",
        "print(l)"
      ]
    }
  ]
}